{
 "cells": [
  {
   "cell_type": "markdown",
   "metadata": {},
   "source": [
    "# Cells Dataset Preprocessing\n",
    "\n",
    "We will do some basic QC, based on the pages on the [Seurat manual](https://satijalab.org/seurat/articles/pbmc3k_tutorial.html#standard-pre-processing-workflow-1). This filters out cells with less than 200 or greater than 2500 unique features. Here, we'll just filter out cells with less than 200."
   ]
  },
  {
   "cell_type": "code",
   "execution_count": 15,
   "metadata": {},
   "outputs": [
    {
     "name": "stdout",
     "output_type": "stream",
     "text": [
      "\u001b[33mWARNING: Ignoring invalid distribution -andas (/dartfs-hpc/rc/home/x/f006jnx/anaconda3/lib/python3.8/site-packages)\u001b[0m\u001b[33m\n",
      "\u001b[0m\u001b[33mWARNING: Ignoring invalid distribution -andas (/dartfs-hpc/rc/home/x/f006jnx/anaconda3/lib/python3.8/site-packages)\u001b[0m\u001b[33m\n",
      "\u001b[0mCollecting git+https://github.com/myfatemi04/omicsio\n",
      "  Cloning https://github.com/myfatemi04/omicsio to /scratch/pip-req-build-6h0ycfpu\n",
      "  Running command git clone --quiet https://github.com/myfatemi04/omicsio /scratch/pip-req-build-6h0ycfpu\n",
      "  Resolved https://github.com/myfatemi04/omicsio to commit 69a06747bf1f3e3e8475197afb64fd791f74d762\n",
      "  Installing build dependencies ... \u001b[?25ldone\n",
      "\u001b[?25h  Getting requirements to build wheel ... \u001b[?25ldone\n",
      "\u001b[?25h  Installing backend dependencies ... \u001b[?25ldone\n",
      "\u001b[?25h  Preparing metadata (pyproject.toml) ... \u001b[?25ldone\n",
      "\u001b[?25hRequirement already satisfied: numpy in /dartfs-hpc/rc/home/x/f006jnx/anaconda3/lib/python3.8/site-packages (from omicsio==0.0.5) (1.22.4)\n",
      "Requirement already satisfied: matplotlib in /dartfs-hpc/rc/home/x/f006jnx/anaconda3/lib/python3.8/site-packages (from omicsio==0.0.5) (3.5.2)\n",
      "Requirement already satisfied: torch in /dartfs-hpc/rc/home/x/f006jnx/anaconda3/lib/python3.8/site-packages (from omicsio==0.0.5) (1.13.1+cu116)\n",
      "Requirement already satisfied: openslide-python in /dartfs-hpc/rc/home/x/f006jnx/anaconda3/lib/python3.8/site-packages (from omicsio==0.0.5) (1.2.0)\n",
      "Requirement already satisfied: Pillow in /dartfs-hpc/rc/home/x/f006jnx/anaconda3/lib/python3.8/site-packages (from omicsio==0.0.5) (9.2.0)\n",
      "Requirement already satisfied: torchvision in /dartfs-hpc/rc/home/x/f006jnx/anaconda3/lib/python3.8/site-packages (from omicsio==0.0.5) (0.14.1+cu116)\n",
      "Requirement already satisfied: kiwisolver>=1.0.1 in /dartfs-hpc/rc/home/x/f006jnx/anaconda3/lib/python3.8/site-packages (from matplotlib->omicsio==0.0.5) (1.4.4)\n",
      "Requirement already satisfied: pyparsing>=2.2.1 in /dartfs-hpc/rc/home/x/f006jnx/anaconda3/lib/python3.8/site-packages (from matplotlib->omicsio==0.0.5) (3.0.9)\n",
      "Requirement already satisfied: packaging>=20.0 in /dartfs-hpc/rc/home/x/f006jnx/anaconda3/lib/python3.8/site-packages (from matplotlib->omicsio==0.0.5) (21.3)\n",
      "Requirement already satisfied: python-dateutil>=2.7 in /dartfs-hpc/rc/home/x/f006jnx/anaconda3/lib/python3.8/site-packages (from matplotlib->omicsio==0.0.5) (2.8.2)\n",
      "Requirement already satisfied: fonttools>=4.22.0 in /dartfs-hpc/rc/home/x/f006jnx/anaconda3/lib/python3.8/site-packages (from matplotlib->omicsio==0.0.5) (4.34.4)\n",
      "Requirement already satisfied: cycler>=0.10 in /dartfs-hpc/rc/home/x/f006jnx/anaconda3/lib/python3.8/site-packages (from matplotlib->omicsio==0.0.5) (0.11.0)\n",
      "Requirement already satisfied: typing-extensions in /dartfs-hpc/rc/home/x/f006jnx/anaconda3/lib/python3.8/site-packages (from torch->omicsio==0.0.5) (4.3.0)\n",
      "Requirement already satisfied: requests in /dartfs-hpc/rc/home/x/f006jnx/anaconda3/lib/python3.8/site-packages (from torchvision->omicsio==0.0.5) (2.28.1)\n",
      "Requirement already satisfied: six>=1.5 in /dartfs-hpc/rc/home/x/f006jnx/anaconda3/lib/python3.8/site-packages (from python-dateutil>=2.7->matplotlib->omicsio==0.0.5) (1.16.0)\n",
      "Requirement already satisfied: urllib3<1.27,>=1.21.1 in /dartfs-hpc/rc/home/x/f006jnx/anaconda3/lib/python3.8/site-packages (from requests->torchvision->omicsio==0.0.5) (1.26.11)\n",
      "Requirement already satisfied: charset-normalizer<3,>=2 in /dartfs-hpc/rc/home/x/f006jnx/anaconda3/lib/python3.8/site-packages (from requests->torchvision->omicsio==0.0.5) (2.1.0)\n",
      "Requirement already satisfied: idna<4,>=2.5 in /dartfs-hpc/rc/home/x/f006jnx/anaconda3/lib/python3.8/site-packages (from requests->torchvision->omicsio==0.0.5) (3.3)\n",
      "Requirement already satisfied: certifi>=2017.4.17 in /dartfs-hpc/rc/home/x/f006jnx/anaconda3/lib/python3.8/site-packages (from requests->torchvision->omicsio==0.0.5) (2022.9.24)\n",
      "\u001b[33mWARNING: Ignoring invalid distribution -andas (/dartfs-hpc/rc/home/x/f006jnx/anaconda3/lib/python3.8/site-packages)\u001b[0m\u001b[33m\n",
      "\u001b[0m\u001b[33mWARNING: Ignoring invalid distribution -andas (/dartfs-hpc/rc/home/x/f006jnx/anaconda3/lib/python3.8/site-packages)\u001b[0m\u001b[33m\n",
      "\u001b[0m\u001b[33mWARNING: Ignoring invalid distribution -andas (/dartfs-hpc/rc/home/x/f006jnx/anaconda3/lib/python3.8/site-packages)\u001b[0m\u001b[33m\n",
      "\u001b[0m\u001b[33mWARNING: Ignoring invalid distribution -andas (/dartfs-hpc/rc/home/x/f006jnx/anaconda3/lib/python3.8/site-packages)\u001b[0m\u001b[33m\n",
      "\u001b[0m"
     ]
    }
   ],
   "source": [
    "!python -m pip install git+https://github.com/myfatemi04/omicsio"
   ]
  },
  {
   "cell_type": "code",
   "execution_count": 18,
   "metadata": {},
   "outputs": [
    {
     "name": "stderr",
     "output_type": "stream",
     "text": [
      "/dartfs-hpc/rc/home/x/f006jnx/anaconda3/envs/pyg/lib/python3.8/site-packages/tqdm/auto.py:21: TqdmWarning: IProgress not found. Please update jupyter and ipywidgets. See https://ipywidgets.readthedocs.io/en/stable/user_install.html\n",
      "  from .autonotebook import tqdm as notebook_tqdm\n"
     ]
    }
   ],
   "source": [
    "import omicsio"
   ]
  },
  {
   "cell_type": "code",
   "execution_count": 7,
   "metadata": {},
   "outputs": [],
   "source": [
    "root = \"./input_data/all_single_cell_data/colon\"\n",
    "\n",
    "def filter_spot_counts(spot_counts, min_unique_genes=200):\n",
    "    unique_genes_per_cell = (spot_counts > 0).sum(dim=-1)\n",
    "    return spot_counts[unique_genes_per_cell >= 200]\n",
    "\n",
    "def create_cache():\n",
    "    sc1 = omicsio.datasets.load_single_cell_from_folder(root + \"/DH_feb_23/SP18_56_A19\")\n",
    "    sc2 = omicsio.datasets.load_single_cell_from_folder(root + \"/DH_feb_23/SP18_16438_A3\")\n",
    "\n",
    "    sc1.save(root + \"/DH_feb_23/SP18_56_A19_raw_cached.pkl\")\n",
    "    sc2.save(root + \"/DH_feb_23/SP18_16438_A3_raw_cached.pkl\")\n",
    "    \n",
    "    print(\"Initial # of cells:\")\n",
    "    print(\" - Slide 1:\", sc1.spot_counts.shape[0])\n",
    "    print(\" - Slide 2:\", sc2.spot_counts.shape[0])\n",
    "\n",
    "    sc1.spot_counts = filter_spot_counts(sc1.spot_counts)\n",
    "    sc2.spot_counts = filter_spot_counts(sc2.spot_counts)\n",
    "\n",
    "    # These were ~50 less than the initial (which were 11220 and 16385)\n",
    "    print(\"Final # of cells:\")\n",
    "    print(\" - Slide 1:\", sc1.spot_counts.shape[0])\n",
    "    print(\" - Slide 2:\", sc2.spot_counts.shape[0])\n",
    "\n",
    "    sc1.save(root + \"/DH_feb_23/SP18_56_A19_preprocessed_cached.pkl\")\n",
    "    sc2.save(root + \"/DH_feb_23/SP18_16438_A3_preprocessed_cached.pkl\")"
   ]
  },
  {
   "cell_type": "code",
   "execution_count": 19,
   "metadata": {},
   "outputs": [
    {
     "name": "stdout",
     "output_type": "stream",
     "text": [
      "Initial # of cells:\n",
      " - Slide 1: 11220\n",
      " - Slide 2: 16385\n",
      "Final # of cells:\n",
      " - Slide 1: 11206\n",
      " - Slide 2: 16354\n"
     ]
    }
   ],
   "source": [
    "create_cache()"
   ]
  },
  {
   "cell_type": "code",
   "execution_count": 21,
   "metadata": {},
   "outputs": [],
   "source": [
    "import pickle\n",
    "\n",
    "with open(root + \"/DH_feb_23/SP18_56_A19_preprocessed_cached.pkl\", \"rb\") as f:\n",
    "    sc1 = pickle.load(f)\n",
    "\n",
    "with open(root + \"/DH_feb_23/SP18_16438_A3_preprocessed_cached.pkl\", \"rb\") as f:\n",
    "    sc2 = pickle.load(f)"
   ]
  },
  {
   "cell_type": "markdown",
   "metadata": {},
   "source": [
    "## Some quick data analysis\n",
    "\n",
    "Here, just looking for outliers, bimodal distributions, etc. Seeing if there is anything abnormal that should be filtered out."
   ]
  },
  {
   "cell_type": "code",
   "execution_count": 46,
   "metadata": {},
   "outputs": [
    {
     "data": {
      "image/png": "[encoded data removed]",
      "text/plain": [
       "<Figure size 640x480 with 6 Axes>"
      ]
     },
     "metadata": {},
     "output_type": "display_data"
    }
   ],
   "source": [
    "import matplotlib.pyplot as plt\n",
    "\n",
    "def get_mito_ratios(slide):\n",
    "    mito_genes = [i for i, gene in enumerate(sc1.genes) if gene.startswith(\"MT-\")]\n",
    "    mito_ratios = slide.spot_counts[:, mito_genes].sum(dim=-1) / slide.spot_counts.sum(dim=-1)\n",
    "    return mito_ratios\n",
    "\n",
    "def display_plots(slide, i=0):\n",
    "    mito_ratios = get_mito_ratios(slide)\n",
    "    total_molecules = sc1.spot_counts.sum(dim=-1)\n",
    "    unique_genes = (sc1.spot_counts > 0).sum(dim=-1)\n",
    "    reads_per_molecule = total_molecules / (unique_genes + 1e-9)\n",
    "    \n",
    "    plt.subplot(3, 2, 1 + i)\n",
    "    plt.ylabel(\"Reads per gene\")\n",
    "    plt.yscale(\"log\")\n",
    "    plt.violinplot(reads_per_molecule)\n",
    "\n",
    "    plt.subplot(3, 2, 3 + i)\n",
    "    plt.ylabel(\"UMI\")\n",
    "    plt.yscale(\"log\")\n",
    "    plt.violinplot(unique_genes) # ['SP18_56_A19', 'SP18_16438_A3'])\n",
    "\n",
    "    plt.subplot(3, 2, 5 + i)\n",
    "    plt.ylabel(\"Mito ratio\")\n",
    "    plt.yscale(\"log\")\n",
    "    plt.violinplot(mito_ratios)\n",
    "    \n",
    "plt.subplots_adjust(hspace=0.5, wspace=0.5)\n",
    "\n",
    "display_plots(sc1)\n",
    "display_plots(sc2, 1)\n",
    "\n",
    "plt.show()"
   ]
  },
  {
   "cell_type": "markdown",
   "metadata": {},
   "source": [
    "## Preparing datasets to improve cell graph experiments\n",
    "\n",
    "This is sort of an experimental approach, but I'm using [FAISS](https://github.com/facebookresearch/faiss), a library designed for efficient vector search. We can think of the gene expression of each cell as a vector; therefore, if a machine learning model predicts bulk RNA as the sum of several cell RNA expressions, we want to be able to deconvolve the predictions of each individual cells. This might be greatly improved through graph convolutions; however, these run the risk of individual cell predictions not resembling what the gene expression for individual cells actually looks like. By creating this index, we can train an algorithm that not only improves the accuracy of the sum gene expression, but also makes the predictions for each individual cell more closely resemble scRNA-seq signatures.\n",
    "\n",
    "TL;DR: In creating a model to predict RNA expression for each cell, we want them to resemble scRNA-seq. A FAISS index makes it easy to nudge cell-level predictions towards realistic gene expressions\n",
    "\n",
    "I'll sort of be following code from [this tutorial](https://www.pinecone.io/learn/faiss-tutorial/)."
   ]
  },
  {
   "cell_type": "code",
   "execution_count": 22,
   "metadata": {},
   "outputs": [],
   "source": [
    "import faiss"
   ]
  },
  {
   "cell_type": "code",
   "execution_count": 24,
   "metadata": {},
   "outputs": [],
   "source": [
    "def create_index(spot_counts):\n",
    "    ndim = spot_counts.shape[1]\n",
    "    index = faiss.IndexFlatL2(ndim)\n",
    "    log_spot_counts = spot_counts.log1p()\n",
    "    index.add(log_spot_counts.numpy())\n",
    "    return index\n",
    "\n",
    "index1 = create_index(sc1.spot_counts)\n",
    "index2 = create_index(sc2.spot_counts)\n",
    "\n",
    "# Now, we can use this like:\n",
    "\n"
   ]
  }
 ],
 "metadata": {
  "kernelspec": {
   "display_name": "pyg",
   "language": "python",
   "name": "pyg"
  },
  "language_info": {
   "codemirror_mode": {
    "name": "ipython",
    "version": 3
   },
   "file_extension": ".py",
   "mimetype": "text/x-python",
   "name": "python",
   "nbconvert_exporter": "python",
   "pygments_lexer": "ipython3",
   "version": "3.8.16"
  }
 },
 "nbformat": 4,
 "nbformat_minor": 2
}
