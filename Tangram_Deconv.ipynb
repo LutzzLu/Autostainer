{
 "cells": [
  {
   "cell_type": "code",
   "execution_count": 3,
   "id": "e89b7126",
   "metadata": {},
   "outputs": [],
   "source": [
    "import tangram as tg\n",
    "import anndata"
   ]
  },
  {
   "cell_type": "code",
   "execution_count": 29,
   "id": "8cb87d4d",
   "metadata": {},
   "outputs": [],
   "source": [
    "def slide_to_anndata(slide, label='spot'):\n",
    "    ad = anndata.AnnData(slide.spot_counts.numpy())\n",
    "    ad.var_names = slide.genes\n",
    "    ad.obs_names = [label + '_' + str(i) for i in range(len(slide.spot_counts))]\n",
    "    return ad"
   ]
  },
  {
   "cell_type": "code",
   "execution_count": 14,
   "id": "e07e5615",
   "metadata": {},
   "outputs": [],
   "source": [
    "from load_datasets import load_patient\n",
    "import gene_sets\n",
    "from cell_regularizer import load_A19_patient_3, load_A3_patient_7, create_cell_reg\n",
    "from adapt_for_cell_graph_models import adapt_for_cell_graph_models\n",
    "\n",
    "genes = gene_sets.GENE_SETS['cytassist-autostainer-top1k-by-rank-mean-thresholded']"
   ]
  },
  {
   "cell_type": "code",
   "execution_count": null,
   "id": "b96d1b40",
   "metadata": {},
   "outputs": [],
   "source": [
    "datasets = {\n",
    "    '092146_3': load_patient('092146_3', '__load_as_slide_objects__'),\n",
    "    '091759_7': load_patient('091759_7', '__load_as_slide_objects__'),\n",
    "}"
   ]
  },
  {
   "cell_type": "code",
   "execution_count": 59,
   "id": "464568f7",
   "metadata": {},
   "outputs": [],
   "source": [
    "scdata = {\n",
    "    '092146_3': load_A19_patient_3(),\n",
    "    '091759_7': load_A3_patient_7(),\n",
    "}"
   ]
  },
  {
   "cell_type": "code",
   "execution_count": 60,
   "id": "5e2b3e99",
   "metadata": {},
   "outputs": [
    {
     "name": "stderr",
     "output_type": "stream",
     "text": [
      "INFO:root:1000 training genes are saved in `uns``training_genes` of both single cell and spatial Anndatas.\n",
      "INFO:root:17688 overlapped genes are saved in `uns``overlap_genes` of both single cell and spatial Anndatas.\n",
      "INFO:root:uniform based density prior is calculated and saved in `obs``uniform_density` of the spatial Anndata.\n",
      "INFO:root:rna count based density prior is calculated and saved in `obs``rna_count_based_density` of the spatial Anndata.\n",
      "INFO:root:1000 training genes are saved in `uns``training_genes` of both single cell and spatial Anndatas.\n",
      "INFO:root:17495 overlapped genes are saved in `uns``overlap_genes` of both single cell and spatial Anndatas.\n",
      "INFO:root:uniform based density prior is calculated and saved in `obs``uniform_density` of the spatial Anndata.\n",
      "INFO:root:rna count based density prior is calculated and saved in `obs``rna_count_based_density` of the spatial Anndata.\n"
     ]
    },
    {
     "data": {
      "text/plain": [
       "(AnnData object with n_obs × n_vars = 6956 × 18072\n",
       "     obs: 'uniform_density', 'rna_count_based_density'\n",
       "     var: 'n_cells'\n",
       "     uns: 'training_genes', 'overlap_genes',\n",
       " AnnData object with n_obs × n_vars = 11206 × 17692\n",
       "     var: 'n_cells'\n",
       "     uns: 'training_genes', 'overlap_genes')"
      ]
     },
     "execution_count": 60,
     "metadata": {},
     "output_type": "execute_result"
    }
   ],
   "source": [
    "# ad_3_sp = slide_to_anndata(datasets['092146_3'].select_genes(genes), 'spot')\n",
    "# ad_7_sp = slide_to_anndata(datasets['091759_7'].select_genes(genes), 'spot')\n",
    "\n",
    "# ad_3_sc = slide_to_anndata(scdata['092146_3'].select_genes(genes), 'cell')\n",
    "# ad_7_sc = slide_to_anndata(scdata['091759_7'].select_genes(genes), 'cell')\n",
    "\n",
    "ad_3_sp = slide_to_anndata(datasets['092146_3'], 'spot')\n",
    "ad_7_sp = slide_to_anndata(datasets['091759_7'], 'spot')\n",
    "\n",
    "ad_3_sc = slide_to_anndata(scdata['092146_3'], 'cell')\n",
    "ad_7_sc = slide_to_anndata(scdata['091759_7'], 'cell')\n",
    "\n",
    "# patient_3_dataset = adapt_for_cell_graph_models(datasets['092146_3'])\n",
    "# patient_7_dataset = adapt_for_cell_graph_models(datasets['091759_7'])\n",
    "# patient_3_reg = create_cell_reg([load_A19_patient_3().select_genes(genes)], sample_count=512)\n",
    "# patient_7_reg = create_cell_reg([load_A3_patient_7().select_genes(genes)], sample_count=512)\n",
    "\n",
    "tg.pp_adatas(ad_3_sc, ad_3_sp, genes=genes)\n",
    "tg.pp_adatas(ad_7_sc, ad_7_sp, genes=genes)\n",
    "\n",
    "ad_3_sp, ad_3_sc"
   ]
  },
  {
   "cell_type": "code",
   "execution_count": 61,
   "id": "b8332d79",
   "metadata": {},
   "outputs": [
    {
     "name": "stderr",
     "output_type": "stream",
     "text": [
      "INFO:root:Allocate tensors for mapping.\n",
      "INFO:root:Begin training with 1000 genes and rna_count_based density_prior in cells mode...\n",
      "INFO:root:Printing scores every 100 epochs.\n"
     ]
    },
    {
     "name": "stdout",
     "output_type": "stream",
     "text": [
      "Score: 0.758, KL reg: 0.176\n",
      "Score: 0.938, KL reg: 0.000\n",
      "Score: 0.948, KL reg: 0.000\n",
      "Score: 0.952, KL reg: 0.000\n",
      "Score: 0.953, KL reg: 0.000\n",
      "Score: 0.955, KL reg: 0.000\n",
      "Score: 0.955, KL reg: 0.000\n",
      "Score: 0.956, KL reg: 0.000\n",
      "Score: 0.956, KL reg: 0.000\n",
      "Score: 0.956, KL reg: 0.000\n"
     ]
    },
    {
     "name": "stderr",
     "output_type": "stream",
     "text": [
      "INFO:root:Saving results..\n",
      "INFO:root:Allocate tensors for mapping.\n",
      "INFO:root:Begin training with 1000 genes and rna_count_based density_prior in cells mode...\n",
      "INFO:root:Printing scores every 100 epochs.\n"
     ]
    },
    {
     "name": "stdout",
     "output_type": "stream",
     "text": [
      "Score: 0.540, KL reg: 0.377\n",
      "Score: 0.831, KL reg: 0.001\n",
      "Score: 0.847, KL reg: 0.000\n",
      "Score: 0.853, KL reg: 0.000\n",
      "Score: 0.856, KL reg: 0.000\n",
      "Score: 0.857, KL reg: 0.000\n",
      "Score: 0.858, KL reg: 0.000\n",
      "Score: 0.858, KL reg: 0.000\n",
      "Score: 0.858, KL reg: 0.000\n",
      "Score: 0.859, KL reg: 0.000\n"
     ]
    },
    {
     "name": "stderr",
     "output_type": "stream",
     "text": [
      "INFO:root:Saving results..\n"
     ]
    }
   ],
   "source": [
    "ad_map_3 = tg.map_cells_to_space(ad_3_sc, ad_3_sp, device='cuda:0')\n",
    "ad_map_7 = tg.map_cells_to_space(ad_7_sc, ad_7_sp, device='cuda:0')"
   ]
  },
  {
   "cell_type": "code",
   "execution_count": 44,
   "id": "2b263f50",
   "metadata": {},
   "outputs": [],
   "source": [
    "def optimal_matching_loss():\n",
    "    # Wasserstein loss with cells assigned to the given spot?\n",
    "    pass\n",
    "\n",
    "# Axes: [cell i, spot j] -> P(spot j | cell i)\n",
    "# P(cell i | spot j)P(spot j) = P(spot j | cell i)P(cell i)\n",
    "# P(cell i | spot j) = P(spot j | cell i)P(cell i)/P(spot j)\n",
    "# P(spot j) = Sum[P(spot j | cell i)P(cell i)] across all cells i\n",
    "# ad_map_3.X[0, :].sum() =~= 1\n",
    "mat_3 = ad_map_3.X\n",
    "mat_7 = ad_map_7.X"
   ]
  },
  {
   "cell_type": "code",
   "execution_count": 62,
   "id": "8cf7bb41",
   "metadata": {},
   "outputs": [],
   "source": [
    "ad_map_3.write(\"scRNA_tangram_matrix_patient3.h5\")\n",
    "ad_map_7.write(\"scRNA_tangram_matrix_patient7.h5\")"
   ]
  },
  {
   "cell_type": "code",
   "execution_count": 56,
   "id": "7cad7edf",
   "metadata": {},
   "outputs": [
    {
     "data": {
      "text/plain": [
       "1.0"
      ]
     },
     "execution_count": 56,
     "metadata": {},
     "output_type": "execute_result"
    }
   ],
   "source": [
    "# import numpy as np\n",
    "\n",
    "# q = 22\n",
    "# v = np.argpartition(mat_3[:, q], -10)[-10:]\n",
    "# mat_3[:, q].sum() / mat_3[:, q].sum()"
   ]
  }
 ],
 "metadata": {
  "kernelspec": {
   "display_name": "pyg",
   "language": "python",
   "name": "pyg"
  },
  "language_info": {
   "codemirror_mode": {
    "name": "ipython",
    "version": 3
   },
   "file_extension": ".py",
   "mimetype": "text/x-python",
   "name": "python",
   "nbconvert_exporter": "python",
   "pygments_lexer": "ipython3",
   "version": "3.8.16"
  }
 },
 "nbformat": 4,
 "nbformat_minor": 5
}
