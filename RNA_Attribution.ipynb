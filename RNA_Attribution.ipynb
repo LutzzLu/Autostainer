{
 "cells": [
  {
   "cell_type": "code",
   "execution_count": 3,
   "id": "5667d718",
   "metadata": {},
   "outputs": [],
   "source": [
    "# Attribution techniques\n",
    "# https://openaccess.thecvf.com/content_CVPR_2019/html/Pope_Explainability_Methods_for_Graph_Convolutional_Neural_Networks_CVPR_2019_paper.html\n",
    "# https://arxiv.org/abs/2012.15445\n",
    "\"\"\"\n",
    "Some benchmarks:\n",
    "- Running the baseline model on a cropped image of each cell and then aggregating across the slide. (This is sort\n",
    "  of what happens anyway, because of the global average pooling at the end of the model). Maybe GradCAM could be\n",
    "  useful here, in that case. Or it could be used as a cell detector.\n",
    "- Graph convolutional networks could identify what permutations of cells are most indicative of certain outcomes.\n",
    "  In addition, they could identify cell graph archetypes without needing to worry about spurious features during\n",
    "  unsupervised learning.\n",
    "\"\"\"\n",
    "pass"
   ]
  },
  {
   "cell_type": "code",
   "execution_count": null,
   "id": "5b805adb",
   "metadata": {},
   "outputs": [],
   "source": []
  }
 ],
 "metadata": {
  "kernelspec": {
   "display_name": "Python 3 (ipykernel)",
   "language": "python",
   "name": "python3"
  },
  "language_info": {
   "codemirror_mode": {
    "name": "ipython",
    "version": 3
   },
   "file_extension": ".py",
   "mimetype": "text/x-python",
   "name": "python",
   "nbconvert_exporter": "python",
   "pygments_lexer": "ipython3",
   "version": "3.8.13"
  }
 },
 "nbformat": 4,
 "nbformat_minor": 5
}
