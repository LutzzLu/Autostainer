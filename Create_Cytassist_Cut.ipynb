{
 "cells": [
  {
   "cell_type": "code",
   "execution_count": 1,
   "id": "63022f97",
   "metadata": {},
   "outputs": [],
   "source": [
    "%load_ext autoreload\n",
    "%autoreload 2"
   ]
  },
  {
   "cell_type": "code",
   "execution_count": 8,
   "id": "9d78970e",
   "metadata": {},
   "outputs": [
    {
     "name": "stdout",
     "output_type": "stream",
     "text": [
      "Loading 092842\n",
      "17 <class 'omicsio.datasets.Slide'> <class 'list'>\n",
      "16 <class 'omicsio.datasets.Slide'> <class 'list'>\n",
      "Loading 092146\n",
      "33 <class 'omicsio.datasets.Slide'> <class 'list'>\n",
      "3 <class 'omicsio.datasets.Slide'> <class 'list'>\n",
      "Loading 092534\n",
      "24 <class 'omicsio.datasets.Slide'> <class 'list'>\n",
      "35 <class 'omicsio.datasets.Slide'> <class 'list'>\n",
      "Loading 091759\n",
      "4 <class 'omicsio.datasets.Slide'> <class 'list'>\n",
      "7 <class 'omicsio.datasets.Slide'> <class 'list'>\n"
     ]
    }
   ],
   "source": [
    "import json\n",
    "import pickle\n",
    "import os\n",
    "\n",
    "from cytassist_segmentation import get_cytassist_subsets_dict_and_cut_cell_detections\n",
    "import torch\n",
    "\n",
    "for file in os.listdir(\"input_data/all_visium_data/preprocessed\"):\n",
    "    if not (file.startswith(\"cytassist_\") and file.endswith(\"_40x.pkl\")):\n",
    "        continue\n",
    "    \n",
    "    slide_id = file.split(\"_\")[1]\n",
    "    print(\"Loading\", slide_id)\n",
    "\n",
    "    # This is the original slide\n",
    "    with open(f\"./input_data/all_visium_data/preprocessed/cytassist_{slide_id}_40x.pkl\", \"rb\") as f:\n",
    "        slide = pickle.load(f)\n",
    "\n",
    "    # This stores information on how the patients are divided\n",
    "    with open(f\"./input_data/all_visium_data/annotations/json_files/_SS12251_{slide_id}.json\", \"rb\") as f:\n",
    "        annotation = json.load(f)\n",
    "        \n",
    "    patient_subsets, cut_cell_detections = get_cytassist_subsets_dict_and_cut_cell_detections(\n",
    "        slide,\n",
    "        annotation,\n",
    "        # Cell detections\n",
    "        torch.load(f'./cell-detections/cytassist_{slide_id}/inferences.pt'),\n",
    "        # Image size surrounding cell detections\n",
    "        512\n",
    "    )\n",
    "    \n",
    "    # Now, save the resulting patients.\n",
    "    for patient_id, patient_subset in patient_subsets.items():\n",
    "        patient_slide = slide.select_subset(patient_subset)\n",
    "        cell_det = [cut_cell_detections[i] for i in patient_subset]\n",
    "        print(patient_id, type(patient_slide), type(cell_det)) # Should be <class 'omicsio.datasets.Slide'>\n",
    "        with open(f\"./input_data/all_visium_data/preprocessed/cytassist_split/{slide_id}_{patient_id}.pkl\", \"wb\") as f:\n",
    "            pickle.dump(patient_slide, f)\n",
    "            \n",
    "        torch.save(cell_det, f\"./input_data/all_visium_data/preprocessed/cytassist_split/{slide_id}_{patient_id}_cells.pt\")"
   ]
  },
  {
   "cell_type": "code",
   "execution_count": 8,
   "id": "7e57c110",
   "metadata": {},
   "outputs": [
    {
     "data": {
      "text/plain": [
       "<module 'cytassist_segmentation' from '/dartfs/rc/nosnapshots/V/VaickusL-nb/EDIT_Students/projects/spatial_omics/cell-detection/cytassist_segmentation.py'>"
      ]
     },
     "execution_count": 8,
     "metadata": {},
     "output_type": "execute_result"
    }
   ],
   "source": [
    "import importlib\n",
    "import cytassist_segmentation\n",
    "importlib.reload(cytassist_segmentation)\n"
   ]
  },
  {
   "cell_type": "code",
   "execution_count": 3,
   "id": "5f557d17",
   "metadata": {},
   "outputs": [
    {
     "data": {
      "text/plain": [
       "<bound method Slide.select_subset of <omicsio.datasets.Slide object at 0x2b6033eb3f70>>"
      ]
     },
     "execution_count": 3,
     "metadata": {},
     "output_type": "execute_result"
    }
   ],
   "source": [
    "slide.select_subset"
   ]
  }
 ],
 "metadata": {
  "kernelspec": {
   "display_name": "pyg",
   "language": "python",
   "name": "pyg"
  },
  "language_info": {
   "codemirror_mode": {
    "name": "ipython",
    "version": 3
   },
   "file_extension": ".py",
   "mimetype": "text/x-python",
   "name": "python",
   "nbconvert_exporter": "python",
   "pygments_lexer": "ipython3",
   "version": "3.8.16"
  }
 },
 "nbformat": 4,
 "nbformat_minor": 5
}
