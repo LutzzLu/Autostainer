{
 "cells": [
  {
   "cell_type": "code",
   "execution_count": 2,
   "id": "fc061fa0",
   "metadata": {},
   "outputs": [],
   "source": [
    "import omicsio\n",
    "import pickle\n",
    "import json\n",
    "import shapely"
   ]
  },
  {
   "cell_type": "code",
   "execution_count": 3,
   "id": "9a97261e",
   "metadata": {},
   "outputs": [],
   "source": [
    "with open(\"./input_data/all_visium_data/annotations/json_files/_SS12251_092534.json\") as f:\n",
    "    slide_polygons_json = json.load(f)\n",
    "\n",
    "with open(\"./input_data/all_visium_data/preprocessed/cytassist_092534_40x.pkl\", \"rb\") as f:\n",
    "    slide = pickle.load(f)"
   ]
  },
  {
   "cell_type": "code",
   "execution_count": 4,
   "id": "63840e8e",
   "metadata": {},
   "outputs": [],
   "source": [
    "def simple_svg_to_shapely_polygon(svg):\n",
    "    \"\"\" Only works if there is only one <polygon/> in the svg\"\"\"\n",
    "    quote_start = svg.find(\"\\\"\") + 1\n",
    "    quote_end = svg.rfind(\"\\\"\")\n",
    "    points_string = svg[quote_start:quote_end]\n",
    "    points = []\n",
    "    for xy_string in points_string.split(\" \"):\n",
    "        x_string, y_string = xy_string.split(\",\")\n",
    "        x = float(x_string)\n",
    "        y = float(y_string)\n",
    "        points.append((x, y))\n",
    "    return shapely.Polygon(points)\n",
    "\n",
    "samples = {key: {'intra': None, 'inter': None} for key in ['24', '35']}\n",
    "\n",
    "sample_id = None\n",
    "for annotation in slide_polygons_json:\n",
    "    annotation_type = annotation['body'][0]['value']\n",
    "    selector = annotation['target']['selector']['value']\n",
    "    if annotation_type not in ['intra', 'inter']:\n",
    "        sample_id = annotation_type\n",
    "    else:\n",
    "        samples[sample_id][annotation_type] = simple_svg_to_shapely_polygon(selector)"
   ]
  },
  {
   "cell_type": "code",
   "execution_count": 5,
   "id": "5addebac",
   "metadata": {},
   "outputs": [
    {
     "data": {
      "text/plain": [
       "{'24': {'intra': <POLYGON ((10447 9995.1, 11886 11004, 12869 11427, 13557.9 11992.5, 14942.3 ...>,\n",
       "  'inter': <POLYGON ((10028.5 8623.8, 9112.7 10073.7, 8516 11529.4, 7313.7 16453.6, 744...>},\n",
       " '35': {'intra': <POLYGON ((49502.699 73283.398, 49220.602 70780.297, 48384.301 67406.898, 47...>,\n",
       "  'inter': <POLYGON ((53854.301 72108.102, 53841 71951.898, 52586.301 67907.297, 52165....>}}"
      ]
     },
     "execution_count": 5,
     "metadata": {},
     "output_type": "execute_result"
    }
   ],
   "source": [
    "samples"
   ]
  },
  {
   "cell_type": "code",
   "execution_count": null,
   "id": "c291b3a7",
   "metadata": {},
   "outputs": [],
   "source": [
    "# Highlighting cells from each polygon"
   ]
  }
 ],
 "metadata": {
  "kernelspec": {
   "display_name": "Python 3 (ipykernel)",
   "language": "python",
   "name": "python3"
  },
  "language_info": {
   "codemirror_mode": {
    "name": "ipython",
    "version": 3
   },
   "file_extension": ".py",
   "mimetype": "text/x-python",
   "name": "python",
   "nbconvert_exporter": "python",
   "pygments_lexer": "ipython3",
   "version": "3.9.17"
  }
 },
 "nbformat": 4,
 "nbformat_minor": 5
}
