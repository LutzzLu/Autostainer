{
 "cells": [
  {
   "cell_type": "code",
   "execution_count": 1,
   "id": "ae3e7e66",
   "metadata": {},
   "outputs": [],
   "source": [
    "%load_ext autoreload\n",
    "%autoreload 2\n",
    "\n",
    "with open(\"./training_results_v2/v2_repr_contrastive/genes.txt\") as f:\n",
    "    genes: list = f.read().split(\"\\n\")\n",
    "\n",
    "from render_3d_deconv import ValidationRenderer"
   ]
  },
  {
   "cell_type": "code",
   "execution_count": 2,
   "id": "29aaf4d7",
   "metadata": {},
   "outputs": [],
   "source": [
    "def drawPieMarker(xs, ys, ratios, sizes, colors, pow_=1, use_max=False, reduce_factor=2.):\n",
    "    markers = []\n",
    "    previous = 0\n",
    "    if use_max:\n",
    "        ratios=(ratios==ratios.max()).astype(float)\n",
    "    else:\n",
    "        ratios[ratios<=sorted(ratios)[-3]]=0#np.quantile(ratios,0.7)\n",
    "        ratios=ratios**pow_\n",
    "        ratios=ratios/sum(ratios)\n",
    "        \n",
    "    for color, ratio in zip(colors, ratios):\n",
    "        if ratio>0:\n",
    "            this = 2 * np.pi * ratio + previous\n",
    "            x  = [0] + np.cos(np.linspace(previous, this, 90)).tolist() + [0]\n",
    "            y  = [0] + np.sin(np.linspace(previous, this, 90)).tolist() + [0]\n",
    "            xy = np.column_stack([x, y])\n",
    "            previous = this\n",
    "            markers.append({'marker':xy, 's':np.abs(xy).max()**2*np.array(sizes) / reduce_factor, 'facecolor':color})\n",
    "\n",
    "    # scatter each of the pie pieces to create pies\n",
    "    for marker in markers:\n",
    "        plt.scatter(xs, ys, **marker)\n",
    "        \n",
    "def plt_savefig_to_np():\n",
    "    import io\n",
    "    import PIL.Image\n",
    "    buf = io.BytesIO()\n",
    "    plt.savefig(buf)\n",
    "    buf.seek(0)\n",
    "    return np.array(PIL.Image.open(buf)) / 255.0"
   ]
  },
  {
   "cell_type": "code",
   "execution_count": 3,
   "id": "7213fd33",
   "metadata": {},
   "outputs": [],
   "source": [
    "renderers = {}"
   ]
  },
  {
   "cell_type": "code",
   "execution_count": 4,
   "id": "65818cbc",
   "metadata": {},
   "outputs": [],
   "source": [
    "# https://giotto-ai.github.io/gtda-docs/latest/notebooks/tmp/mapper_quickstart.html?highlight=mapper\n",
    "\n",
    "import gc\n",
    "import gtda\n",
    "from gtda.mapper.filter import Projection\n",
    "from gtda.mapper.cover import CubicalCover\n",
    "from sklearn.cluster import DBSCAN\n",
    "from create_aligned_umap import create_umap_embeddings\n",
    "from hdbscan.flat import HDBSCAN_flat\n",
    "from hdbscan import HDBSCAN\n",
    "import seaborn as sns\n",
    "import scipy.stats\n",
    "import numpy as np\n",
    "import matplotlib.pyplot as plt"
   ]
  },
  {
   "cell_type": "code",
   "execution_count": 6,
   "id": "fe8f97fd",
   "metadata": {},
   "outputs": [],
   "source": [
    "# import pickle\n",
    "# import cv2\n",
    "\n",
    "# with open(\"./input_data/all_visium_data/preprocessed/autostainer_40x.pkl\", \"rb\") as f:\n",
    "#     autostainer = pickle.load(f)\n",
    "\n",
    "# autostainer_thumbnail = cv2.imread(\"figures/thumbnail_cache/autostainer/thumbnail_32.png\")\n",
    "# ox = 768\n",
    "# oy = 768"
   ]
  },
  {
   "cell_type": "code",
   "execution_count": 19,
   "id": "a9a2d183",
   "metadata": {
    "scrolled": false
   },
   "outputs": [],
   "source": [
    "def run_cluster_pipeline(patient_id):\n",
    "    gc.collect()\n",
    "    if patient_id == 'autostainer':\n",
    "        slide_id = 'autostainer'\n",
    "        pid = ''\n",
    "    else:\n",
    "        slide_id, pid = patient_id.split(\"_\")\n",
    "    \n",
    "    # Sort of just used as a preprocessor at this point\n",
    "    if patient_id not in renderers:\n",
    "        renderers[patient_id] = ValidationRenderer(slide_id, pid, 'figures/v7/' + patient_id)\n",
    "    renderer = renderers[patient_id]\n",
    "    \n",
    "    print(\"Loaded slide\")\n",
    "    \n",
    "    true_embed, pred_embed = create_umap_embeddings(renderer.true_visium, renderer.pred_visium)\n",
    "    \n",
    "    print(\"Created UMAP embeddings\")\n",
    "    \n",
    "    # Configure parallelism of clustering step\n",
    "    n_jobs = 1\n",
    "\n",
    "    cover = CubicalCover()\n",
    "    filter_func = Projection([0, 1])\n",
    "    clusterer = DBSCAN()\n",
    "\n",
    "    # Initialise pipeline\n",
    "    pipe = gtda.mapper.make_mapper_pipeline(\n",
    "        filter_func=filter_func,\n",
    "        cover=cover,\n",
    "        clusterer=clusterer,\n",
    "        verbose=False,\n",
    "        n_jobs=n_jobs,\n",
    "    )\n",
    "    \n",
    "    G = pipe.fit_transform(true_embed)\n",
    "    \n",
    "    # tunable parameters depending on your slide\n",
    "    hf = HDBSCAN_flat(true_embed, n_clusters=5, min_cluster_size=120)\n",
    "#     hf = HDBSCAN(n_clusters=5)\n",
    "#     hf.fit(true_embed)\n",
    "    \n",
    "    print(\"Created HDBSCAN clusters\")\n",
    "    \n",
    "    s = []\n",
    "    c = []\n",
    "    pal = sns.color_palette()\n",
    "    embeddings = [true_embed, pred_embed]\n",
    "#     cl_ = hf.labels_\n",
    "    # ensuring that every point is colored\n",
    "    cl_ = hf.labels_ + 1\n",
    "    colors_ = sns.color_palette(None,cl_.max()+1)\n",
    "    classes_ = np.eye(cl_.max()+1)\n",
    "    \n",
    "    print(patient_id, \"HDBSCAN clusters\")\n",
    "    plt.rcParams['figure.figsize'] = (25, 25)\n",
    "    plt.clf()\n",
    "    # crop blank_image to spots\n",
    "    min_x, max_x = renderer.visium_x[include_idxs].min(), renderer.visium_x[include_idxs].max()\n",
    "    min_y, max_y = renderer.visium_y[include_idxs].min(), renderer.visium_y[include_idxs].max()\n",
    "    cropped_blank_image = renderer.blank_image[min_y - 256:max_y + 256, min_x - 256:max_x + 256]\n",
    "    # Get the blank image\n",
    "    plt.imshow(cropped_blank_image)\n",
    "    plt.show()\n",
    "    # Get the cluster-rendered image\n",
    "    plt.imshow(cropped_blank_image)\n",
    "    include_idxs = cl_ != -1\n",
    "    plt.scatter(\n",
    "        renderer.visium_x[include_idxs],\n",
    "        renderer.visium_y[include_idxs],\n",
    "        marker='h',\n",
    "        # This needs to change to 125 for non autostainer slides\n",
    "        s=250 if slide_id == 'autostainer' else 125,\n",
    "        c=[colors_[i] for i in cl_[include_idxs]]\n",
    "    )\n",
    "    plt.axis('off')\n",
    "    plt.show()\n",
    "    \n",
    "    for embed_idx in [0, 1]:\n",
    "        xs,ys,sizes,ratios,colors=[],[],[],[],[]\n",
    "        \n",
    "        # G.vs['node_elements'] -> list of ndarray corresponding to indexes\n",
    "        for NE in G.vs['node_elements']:\n",
    "            xy=embeddings[embed_idx][NE].mean(0)\n",
    "            cl_tmp=cl_[NE]\n",
    "            counts_=classes_[cl_tmp[cl_tmp!=-1]].sum(0)\n",
    "            size_=counts_.sum()\n",
    "\n",
    "            if size_>0:\n",
    "                ratios_=counts_/size_\n",
    "                xs.append(xy[0])\n",
    "                ys.append(xy[1])\n",
    "                sizes.append(int(size_))\n",
    "                ratios.append(ratios_)\n",
    "                colors.append(list(colors_))\n",
    "\n",
    "        plt.rcParams['figure.figsize'] = (6, 5)\n",
    "        plt.clf()\n",
    "        for x,y,ratios_,size_,colors_ in zip(xs, ys, ratios, sizes, colors):\n",
    "            drawPieMarker(x, y, ratios_, size_, colors_, use_max=True,reduce_factor=0.5, pow_=0.7)\n",
    "        sns.despine()\n",
    "        plt.axis('off')\n",
    "        print(patient_id, 'mapper_' + ('true', 'pred')[embed_idx])\n",
    "        renderer.export(plt_savefig_to_np(), 'mapper_' + ('true', 'pred')[embed_idx])\n",
    "        plt.show()\n"
   ]
  },
  {
   "cell_type": "code",
   "execution_count": 20,
   "id": "99be8460",
   "metadata": {
    "scrolled": false
   },
   "outputs": [
    {
     "name": "stderr",
     "output_type": "stream",
     "text": [
      "/dartfs/rc/nosnapshots/V/VaickusL-nb/EDIT_Students/projects/spatial_omics/cell-detection/render_3d_deconv.py:274: UserWarning: To copy construct from a tensor, it is recommended to use sourceTensor.clone().detach() or sourceTensor.clone().detach().requires_grad_(True), rather than torch.tensor(sourceTensor).\n",
      "  boxes = [torch.tensor(self.cell_detections[i]['boxes']) * 2 for i in self.validation_data['prediction_indices']]\n",
      "/dartfs/rc/nosnapshots/V/VaickusL-nb/EDIT_Students/projects/spatial_omics/cell-detection/render_3d_deconv.py:288: UserWarning: To copy construct from a tensor, it is recommended to use sourceTensor.clone().detach() or sourceTensor.clone().detach().requires_grad_(True), rather than torch.tensor(sourceTensor).\n",
      "  self.pred_expr_per_cell = [torch.tensor(e) for e in self.validation_data['predictions']['cell_vectors_batch']]\n"
     ]
    },
    {
     "name": "stdout",
     "output_type": "stream",
     "text": [
      "Loaded slide\n",
      "Created UMAP embeddings\n",
      "Created HDBSCAN clusters\n",
      "092146_33 HDBSCAN clusters\n"
     ]
    },
    {
     "name": "stderr",
     "output_type": "stream",
     "text": [
      "/dartfs-hpc/rc/home/x/f006jnx/anaconda3/envs/pyg/lib/python3.8/site-packages/hdbscan/flat.py:155: UserWarning: Cannot predict more than 3 with cluster selection method 'eom'. Changing to method 'leaf'...\n",
      "  warn(f\"Cannot predict more than {max_eom_clusters} with cluster \"\n"
     ]
    },
    {
     "ename": "UnboundLocalError",
     "evalue": "local variable 'include_idxs' referenced before assignment",
     "output_type": "error",
     "traceback": [
      "\u001b[0;31m---------------------------------------------------------------------------\u001b[0m",
      "\u001b[0;31mUnboundLocalError\u001b[0m                         Traceback (most recent call last)",
      "Cell \u001b[0;32mIn[20], line 13\u001b[0m\n\u001b[1;32m      1\u001b[0m patient_ids \u001b[38;5;241m=\u001b[39m [\n\u001b[1;32m      2\u001b[0m     \u001b[38;5;124m'\u001b[39m\u001b[38;5;124mautostainer\u001b[39m\u001b[38;5;124m'\u001b[39m,\n\u001b[1;32m      3\u001b[0m     \u001b[38;5;124m'\u001b[39m\u001b[38;5;124m092534_24\u001b[39m\u001b[38;5;124m'\u001b[39m,\n\u001b[0;32m   (...)\u001b[0m\n\u001b[1;32m     10\u001b[0m     \u001b[38;5;124m'\u001b[39m\u001b[38;5;124m092842_16\u001b[39m\u001b[38;5;124m'\u001b[39m,\n\u001b[1;32m     11\u001b[0m ]\n\u001b[0;32m---> 13\u001b[0m \u001b[43mrun_cluster_pipeline\u001b[49m\u001b[43m(\u001b[49m\u001b[38;5;124;43m'\u001b[39;49m\u001b[38;5;124;43m092146_33\u001b[39;49m\u001b[38;5;124;43m'\u001b[39;49m\u001b[43m)\u001b[49m\n",
      "Cell \u001b[0;32mIn[19], line 59\u001b[0m, in \u001b[0;36mrun_cluster_pipeline\u001b[0;34m(patient_id)\u001b[0m\n\u001b[1;32m     57\u001b[0m plt\u001b[38;5;241m.\u001b[39mclf()\n\u001b[1;32m     58\u001b[0m \u001b[38;5;66;03m# crop blank_image to spots\u001b[39;00m\n\u001b[0;32m---> 59\u001b[0m min_x, max_x \u001b[38;5;241m=\u001b[39m renderer\u001b[38;5;241m.\u001b[39mvisium_x[\u001b[43minclude_idxs\u001b[49m]\u001b[38;5;241m.\u001b[39mmin(), renderer\u001b[38;5;241m.\u001b[39mvisium_x[include_idxs]\u001b[38;5;241m.\u001b[39mmax()\n\u001b[1;32m     60\u001b[0m min_y, max_y \u001b[38;5;241m=\u001b[39m renderer\u001b[38;5;241m.\u001b[39mvisium_y[include_idxs]\u001b[38;5;241m.\u001b[39mmin(), renderer\u001b[38;5;241m.\u001b[39mvisium_y[include_idxs]\u001b[38;5;241m.\u001b[39mmax()\n\u001b[1;32m     61\u001b[0m cropped_blank_image \u001b[38;5;241m=\u001b[39m renderer\u001b[38;5;241m.\u001b[39mblank_image[min_y \u001b[38;5;241m-\u001b[39m \u001b[38;5;241m256\u001b[39m:max_y \u001b[38;5;241m+\u001b[39m \u001b[38;5;241m256\u001b[39m, min_x \u001b[38;5;241m-\u001b[39m \u001b[38;5;241m256\u001b[39m:max_x \u001b[38;5;241m+\u001b[39m \u001b[38;5;241m256\u001b[39m]\n",
      "\u001b[0;31mUnboundLocalError\u001b[0m: local variable 'include_idxs' referenced before assignment"
     ]
    },
    {
     "data": {
      "text/plain": [
       "<Figure size 2500x2500 with 0 Axes>"
      ]
     },
     "metadata": {},
     "output_type": "display_data"
    }
   ],
   "source": [
    "patient_ids = [\n",
    "    'autostainer',\n",
    "    '092534_24',\n",
    "    '092534_35',\n",
    "    '091759_4',\n",
    "    '091759_7',\n",
    "    '092146_33',\n",
    "    '092146_3',\n",
    "    '092842_17',\n",
    "    '092842_16',\n",
    "]\n",
    "\n",
    "run_cluster_pipeline('092146_33')"
   ]
  }
 ],
 "metadata": {
  "kernelspec": {
   "display_name": "pyg",
   "language": "python",
   "name": "pyg"
  },
  "language_info": {
   "codemirror_mode": {
    "name": "ipython",
    "version": 3
   },
   "file_extension": ".py",
   "mimetype": "text/x-python",
   "name": "python",
   "nbconvert_exporter": "python",
   "pygments_lexer": "ipython3",
   "version": "3.8.16"
  }
 },
 "nbformat": 4,
 "nbformat_minor": 5
}
